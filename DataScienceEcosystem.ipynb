{
  "metadata": {
    "kernelspec": {
      "name": "python",
      "display_name": "Python (Pyodide)",
      "language": "python"
    },
    "language_info": {
      "codemirror_mode": {
        "name": "python",
        "version": 3
      },
      "file_extension": ".py",
      "mimetype": "text/x-python",
      "name": "python",
      "nbconvert_exporter": "python",
      "pygments_lexer": "ipython3",
      "version": "3.8"
    }
  },
  "nbformat_minor": 5,
  "nbformat": 4,
  "cells": [
    {
      "id": "eabfe1db-1065-450a-812d-daf2c6186cd0",
      "cell_type": "markdown",
      "source": "# Data Science Tools and Ecosystem",
      "metadata": {}
    },
    {
      "id": "c33d3886-56db-4bb1-ba79-e7aa44953126",
      "cell_type": "markdown",
      "source": "In this notebook, Data Science Tools and Ecosystem are summarized.",
      "metadata": {}
    },
    {
      "id": "80500072-8574-4f69-b5fb-67e454b6871a",
      "cell_type": "markdown",
      "source": "Some of the popular languages that Data Scientists use are:\n1. Python\n2. R\n3. Julia\n4. Scala",
      "metadata": {}
    },
    {
      "id": "1f44a80c-79ba-4a08-8473-6e89e602bc0b",
      "cell_type": "markdown",
      "source": "Some of the commonly used libraries used by Data Scientists include:\n1. TesnorFlow\n2. Pandas\n3. Numpy\n4. scikit-learn\n5. SciPy",
      "metadata": {}
    },
    {
      "id": "ecbcd8ab-ca11-48ff-828a-65ffdc2659e3",
      "cell_type": "markdown",
      "source": "|Data Science Tools|\n|------------------|\n|JupiterLite|\n|JupiterLab|\n|RStudio|\n|VS Code|\n|Google Colab|\n",
      "metadata": {}
    },
    {
      "id": "0e75f957-4aa5-43b3-922e-62e3dd2e9ae7",
      "cell_type": "markdown",
      "source": "### Below are a few examples of evaluating arithmetic expressions in Python:",
      "metadata": {}
    },
    {
      "id": "7f8d516e-476e-4cb2-b9cc-6d135a5c534a",
      "cell_type": "code",
      "source": "2+6",
      "metadata": {
        "trusted": true
      },
      "outputs": [
        {
          "execution_count": 2,
          "output_type": "execute_result",
          "data": {
            "text/plain": "8"
          },
          "metadata": {}
        }
      ],
      "execution_count": 2
    },
    {
      "id": "9bc1bb49-a234-47ac-a7b2-1965424d905b",
      "cell_type": "markdown",
      "source": "This a simple arithmetic expression to mutiply then add integers",
      "metadata": {}
    },
    {
      "id": "3a038375-fa38-4c82-92fc-f6c23f69bf79",
      "cell_type": "code",
      "source": "(3*4)+5",
      "metadata": {
        "trusted": true
      },
      "outputs": [
        {
          "execution_count": 3,
          "output_type": "execute_result",
          "data": {
            "text/plain": "17"
          },
          "metadata": {}
        }
      ],
      "execution_count": 3
    },
    {
      "id": "7f59037f-c768-4585-a145-b189d673c520",
      "cell_type": "markdown",
      "source": "This will convert 200 minutes to hours by diving by 60",
      "metadata": {}
    },
    {
      "id": "f02d89fd-858e-4a55-971d-fe80e49ca3c6",
      "cell_type": "code",
      "source": "200/60",
      "metadata": {
        "trusted": true
      },
      "outputs": [
        {
          "execution_count": 4,
          "output_type": "execute_result",
          "data": {
            "text/plain": "3.3333333333333335"
          },
          "metadata": {}
        }
      ],
      "execution_count": 4
    },
    {
      "id": "f113e168-4deb-4ceb-af45-1467df6f6239",
      "cell_type": "markdown",
      "source": "__Objectives:__",
      "metadata": {}
    },
    {
      "id": "5c481500-68e1-4376-b8b6-bf3b8bb96154",
      "cell_type": "markdown",
      "source": "- Python\n- Scala\n- R\n- JS\n- C/C++\n- Julia",
      "metadata": {}
    },
    {
      "id": "d48ca58c-f229-4d54-9c53-b2083ef678d3",
      "cell_type": "markdown",
      "source": "## Author\nDamian Lorek",
      "metadata": {}
    },
    {
      "id": "dae7e879-d56d-474f-af28-3bd6c21d1ae8",
      "cell_type": "code",
      "source": "",
      "metadata": {
        "trusted": true
      },
      "outputs": [],
      "execution_count": null
    }
  ]
}