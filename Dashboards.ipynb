{
 "cells": [
  {
   "cell_type": "markdown",
   "id": "11e982e7",
   "metadata": {},
   "source": [
    "### Build an Interactive Dashboard with Plotly Dash"
   ]
  },
  {
   "cell_type": "markdown",
   "id": "6142a024",
   "metadata": {},
   "source": [
    "In this lab, you will be building a Plotly Dash application for users to perform interactive visual analytics on SpaceX launch data in\n",
    "real-time.\n",
    "\n",
    "This dashboard application contains input components such as a dropdown list and a range slider to\n",
    "interact with a pie chart and a scatter point chart. You will be guided to build this dashboard application via the following tasks:\n",
    "\n",
    "- TASK 1: Add a Launch Site Drop-down Input Component\n",
    "- TASK 2: Add a callback function to render success-pie-chart based on selected site dropdown\n",
    "- TASK 3: Add a Range Slider to Select Payload\n",
    "- TASK 4: Add a callback function to render the success-payload-scatter-chart scatter plot\n",
    "- Note:Please take screenshots of the Dashboard and save them. Further upload your notebook to github.\n",
    "\n",
    "The github url and the screenshots are later required in the presentation slides.\n",
    "\n",
    "Your completed dashboard application should look like the following screenshot:"
   ]
  },
  {
   "cell_type": "markdown",
   "id": "8058a969",
   "metadata": {},
   "source": [
    "After visual analysis using the dashboard, you should be able to obtain some insights to answer the following five questions:\n",
    "\n",
    "- Which site has the largest successful launches?\n",
    "- Which site has the highest launch success rate?\n",
    "- Which payload range(s) has the highest launch success rate?\n",
    "- Which payload range(s) has the lowest launch success rate?\n",
    "- Which F9 Booster version (v1.0, v1.1, FT, B4, B5, etc.) has the highest launch success rate?"
   ]
  },
  {
   "cell_type": "code",
   "execution_count": 5,
   "id": "c25f9ee7",
   "metadata": {},
   "outputs": [],
   "source": [
    "import dash\n",
    "import requests\n",
    "import plotly.express as px\n",
    "import plotly.graph_objects as go\n",
    "from dash import dcc\n",
    "from dash import html\n",
    "from dash.dependencies import Input, Output\n",
    "import os\n",
    "import pandas as pd"
   ]
  },
  {
   "cell_type": "code",
   "execution_count": 6,
   "id": "d4521b4f",
   "metadata": {},
   "outputs": [],
   "source": [
    "url =  \"https://cf-courses-data.s3.us.cloud-object-storage.appdomain.cloud/IBM-DS0321EN-SkillsNetwork/datasets/spacex_launch_dash.csv\"\n",
    "df = pd.read_csv(url)"
   ]
  },
  {
   "cell_type": "code",
   "execution_count": 7,
   "id": "7f93c465",
   "metadata": {},
   "outputs": [],
   "source": [
    "df = df.drop('Unnamed: 0', axis=1)"
   ]
  },
  {
   "cell_type": "code",
   "execution_count": 8,
   "id": "52667b24",
   "metadata": {},
   "outputs": [
    {
     "data": {
      "text/html": [
       "<div>\n",
       "<style scoped>\n",
       "    .dataframe tbody tr th:only-of-type {\n",
       "        vertical-align: middle;\n",
       "    }\n",
       "\n",
       "    .dataframe tbody tr th {\n",
       "        vertical-align: top;\n",
       "    }\n",
       "\n",
       "    .dataframe thead th {\n",
       "        text-align: right;\n",
       "    }\n",
       "</style>\n",
       "<table border=\"1\" class=\"dataframe\">\n",
       "  <thead>\n",
       "    <tr style=\"text-align: right;\">\n",
       "      <th></th>\n",
       "      <th>Flight Number</th>\n",
       "      <th>Launch Site</th>\n",
       "      <th>class</th>\n",
       "      <th>Payload Mass (kg)</th>\n",
       "      <th>Booster Version</th>\n",
       "      <th>Booster Version Category</th>\n",
       "    </tr>\n",
       "  </thead>\n",
       "  <tbody>\n",
       "    <tr>\n",
       "      <th>0</th>\n",
       "      <td>1</td>\n",
       "      <td>CCAFS LC-40</td>\n",
       "      <td>0</td>\n",
       "      <td>0.0</td>\n",
       "      <td>F9 v1.0  B0003</td>\n",
       "      <td>v1.0</td>\n",
       "    </tr>\n",
       "    <tr>\n",
       "      <th>1</th>\n",
       "      <td>2</td>\n",
       "      <td>CCAFS LC-40</td>\n",
       "      <td>0</td>\n",
       "      <td>0.0</td>\n",
       "      <td>F9 v1.0  B0004</td>\n",
       "      <td>v1.0</td>\n",
       "    </tr>\n",
       "    <tr>\n",
       "      <th>2</th>\n",
       "      <td>3</td>\n",
       "      <td>CCAFS LC-40</td>\n",
       "      <td>0</td>\n",
       "      <td>525.0</td>\n",
       "      <td>F9 v1.0  B0005</td>\n",
       "      <td>v1.0</td>\n",
       "    </tr>\n",
       "    <tr>\n",
       "      <th>3</th>\n",
       "      <td>4</td>\n",
       "      <td>CCAFS LC-40</td>\n",
       "      <td>0</td>\n",
       "      <td>500.0</td>\n",
       "      <td>F9 v1.0  B0006</td>\n",
       "      <td>v1.0</td>\n",
       "    </tr>\n",
       "    <tr>\n",
       "      <th>4</th>\n",
       "      <td>5</td>\n",
       "      <td>CCAFS LC-40</td>\n",
       "      <td>0</td>\n",
       "      <td>677.0</td>\n",
       "      <td>F9 v1.0  B0007</td>\n",
       "      <td>v1.0</td>\n",
       "    </tr>\n",
       "  </tbody>\n",
       "</table>\n",
       "</div>"
      ],
      "text/plain": [
       "   Flight Number  Launch Site  class  Payload Mass (kg) Booster Version  \\\n",
       "0              1  CCAFS LC-40      0                0.0  F9 v1.0  B0003   \n",
       "1              2  CCAFS LC-40      0                0.0  F9 v1.0  B0004   \n",
       "2              3  CCAFS LC-40      0              525.0  F9 v1.0  B0005   \n",
       "3              4  CCAFS LC-40      0              500.0  F9 v1.0  B0006   \n",
       "4              5  CCAFS LC-40      0              677.0  F9 v1.0  B0007   \n",
       "\n",
       "  Booster Version Category  \n",
       "0                     v1.0  \n",
       "1                     v1.0  \n",
       "2                     v1.0  \n",
       "3                     v1.0  \n",
       "4                     v1.0  "
      ]
     },
     "execution_count": 8,
     "metadata": {},
     "output_type": "execute_result"
    }
   ],
   "source": [
    "df.head()"
   ]
  },
  {
   "cell_type": "code",
   "execution_count": 9,
   "id": "68e1ec4a",
   "metadata": {},
   "outputs": [],
   "source": [
    "request  = requests.get(\"https://cf-courses-data.s3.us.cloud-object-storage.appdomain.cloud/t4-Vy4iOU19i8y6E3Px_ww/spacex-dash-app.py\")\n",
    "with open(\"pacex-dash-app.py\", \"wb\") as f:\n",
    "        f.write(request.content)"
   ]
  },
  {
   "cell_type": "markdown",
   "id": "3de00eb7",
   "metadata": {},
   "source": [
    "### TASK 1: Add a Launch Site Drop-down Input Component"
   ]
  },
  {
   "cell_type": "markdown",
   "id": "6c4c10d5",
   "metadata": {},
   "source": [
    "We have four different launch sites and we would like to first see which one has the largest success count. Then,\n",
    "we would like to select one specific site and check its detailed success rate (class=0 vs. class=1).\n",
    "\n",
    "As such, we will need a dropdown menu to let us select different launch sites.\n",
    "\n",
    "Find and complete a commented dcc.Dropdown(id='site-dropdown',...) input with following attributes:\n",
    "- id attribute with value site-dropdown\n",
    "- options attribute is a list of dict-like option objects (with label and value attributes). You can set the label and value all to be the launch site names in the spacex_df and you need to include the default All option. e.g.,\n",
    "\n",
    "  <code>options=[{'label': 'All Sites', 'value': 'ALL'},{'label': 'site1', 'value': 'site1'}, ...]</code>\n",
    "\n",
    "\n",
    "Wrap Toggled!\n",
    "- value attribute with default dropdown value to be ALL meaning all sites are selected \n",
    "- placeholder attribute to show a text description about this input area, such as Select a Launch Site here\n",
    "- searchable attribute to be True so we can enter keywords to search launch sites\n",
    "Here is an example of dcc.Dropdown:"
   ]
  },
  {
   "cell_type": "markdown",
   "id": "ae1b05a7",
   "metadata": {},
   "source": [
    "### TASK 2: Add a callback function to render success-pie-chart based on selected site dropdown"
   ]
  },
  {
   "cell_type": "markdown",
   "id": "c6b5f37e",
   "metadata": {},
   "source": [
    "The general idea of this callback function is to get the selected launch site from site-dropdown and render\n",
    "a pie chart visualizing launch success counts.\n",
    "\n",
    "- Dash callback function is a type of Python function which will be automatically called by\n",
    "- Dash whenever receiving an input component updates, such as a click or dropdown selecting event.\n",
    "\n",
    "Let’s add a callback function in spacex_dash_app.py including the following application logic:\n",
    "\n",
    "- Input is set to be the site-dropdown dropdown, i.e., Input(component_id='site-dropdown', component_property='value')\n",
    "- Output to be the graph with id success-pie-chart, i.e., Output(component_id='success-pie-chart', component_property='figure')\n",
    "- A If-Else statement to check if ALL sites were selected or just a specific launch site was selected\n",
    "   - If ALL sites are selected, we will use all rows in the dataframe spacex_df to render and return a pie chart graph to show the total success launches (i.e., the total count of class column)\n",
    "   - If a specific launch site is selected, you need to filter the dataframe spacex_df first in order to include the only data for the selected site. Then, render and return a pie chart graph to show the success (class=1) count and failed (class=0) count for the selected site."
   ]
  },
  {
   "cell_type": "markdown",
   "id": "dbbacc2a",
   "metadata": {},
   "source": [
    "### TASK 3: Add a Range Slider to Select Payload"
   ]
  },
  {
   "cell_type": "markdown",
   "id": "5d65edcd",
   "metadata": {},
   "source": [
    "Next, we want to find if variable payload is correlated to mission outcome. From a dashboard point of view, we\n",
    "want to be able to easily select different payload range and see if we can identify some visual patterns.\n",
    "\n",
    "Find and complete a commented dcc.RangeSlider(id='payload-slider',...) input with the following attribute:\n",
    "\n",
    "- id to be payload-slider\n",
    "- min indicating the slider starting point, we set its value to be 0 (Kg)\n",
    "- max indicating the slider ending point to, we set its value to be 10000 (Kg)\n",
    "- step indicating the slider interval on the slider, we set its value to be 1000 (Kg)\n",
    "- value indicating the current selected range, we could set it to be min_payload and max_payload"
   ]
  },
  {
   "cell_type": "markdown",
   "id": "31747bab",
   "metadata": {},
   "source": [
    "### TASK 4: Add a callback function to render the success-payload-scatter-chart scatter plot"
   ]
  },
  {
   "cell_type": "markdown",
   "id": "ee1f8e62",
   "metadata": {},
   "source": [
    "Next, we want to plot a scatter plot with the x axis to be the payload and the y axis to be the launch outcome (i.e., class column).\n",
    "As such, we can visually observe how payload may be correlated with mission outcomes for selected site(s).\n",
    "\n",
    "In addition, we want to color-label the Booster version on each scatter point so that we may\n",
    "observe mission outcomes with different boosters.\n",
    "\n",
    "Now, let’s add a call function including the following application logic:\n",
    "\n",
    "- Input to be [Input(component_id='site-dropdown', component_property='value'), Input(component_id=\"payload-slider\", component_property=\"value\")]\n",
    "Note that we have two input components, one to receive selected launch site and another to receive selected payload range\n",
    "- Output to be Output(component_id='success-payload-scatter-chart', component_property='figure')\n",
    "- A If-Else statement to check if ALL sites were selected or just a specific launch site was selected\n",
    "    - If ALL sites are selected, render a scatter plot to display all values for variable Payload Mass (kg) and variable class.\n",
    "    - In addition, the point color needs to be set to the booster version i.e., color=\"Booster Version Category\"\n",
    "    - If a specific launch site is selected, you need to filter the spacex_df first, and render a scatter chart to show values Payload Mass (kg) and class for the selected site, and color-label the point using Boosster Version Category likewise."
   ]
  },
  {
   "cell_type": "code",
   "execution_count": 14,
   "id": "82a75496",
   "metadata": {},
   "outputs": [
    {
     "data": {
      "text/html": [
       "\n",
       "        <iframe\n",
       "            width=\"100%\"\n",
       "            height=\"650\"\n",
       "            src=\"http://127.0.0.1:8050/\"\n",
       "            frameborder=\"0\"\n",
       "            allowfullscreen\n",
       "            \n",
       "        ></iframe>\n",
       "        "
      ],
      "text/plain": [
       "<IPython.lib.display.IFrame at 0x16cf97716d0>"
      ]
     },
     "metadata": {},
     "output_type": "display_data"
    }
   ],
   "source": [
    "\n",
    "\n",
    "app = dash.Dash(__name__)\n",
    "\n",
    "min_payload = df['Payload Mass (kg)'].min()\n",
    "max_payload = df['Payload Mass (kg)'].max()\n",
    "app.layout = html.Div(children=[html.H1('SpaceX Launch Records Dashboard',\n",
    "                                        style={'textAlign': 'center', 'color': '#503D36',\n",
    "                                               'font-size': 40}),\n",
    "                                dcc.Dropdown(id='site-dropdown',options=[{'label':'All Sites', 'value': 'All'}]+[{'label': site, 'value': site} for site in df['Launch Site'].unique()], \n",
    "                                             value='All', placeholder='All Launch sites', searchable= True, style={'width': '300px'}),\n",
    "                                html.Br(),\n",
    "                                html.Div(dcc.Graph(id='success-pie-chart')),\n",
    "                                html.Br(),\n",
    "                                html.P(\"Payload range (Kg):\", style={'textAlign': 'left', 'color': '#ff6655','font-size': 40}),\n",
    "                                dcc.RangeSlider(id='payload-slider',min=0, max=10000, step=100, marks={0: '0', int(max_payload): f'Max payload {max_payload} kg', 10000:'10000 kg'}, \n",
    "                                                value=[min_payload, max_payload], tooltip={\"placement\": \"bottom\", \"always_visible\": True}),\n",
    "                                html.Br(),\n",
    "                                html.Div(dcc.Graph(id = 'success-payload-scatter-chart')),\n",
    "                                html.Br(),\n",
    "                                ])\n",
    "\n",
    "# Function decorator to specify function input and output\n",
    "@app.callback(Output(component_id='success-pie-chart', component_property='figure'),\n",
    "              Input(component_id='site-dropdown', component_property='value'))\n",
    "def get_pie_chart(entered_site):\n",
    "    if entered_site == 'All':\n",
    "        fig = px.pie(df, values='class', \n",
    "        names='Launch Site', \n",
    "        title='Success and Failures by Launching site')\n",
    "        return fig\n",
    "    else:\n",
    "        filtered_df = df[df['Launch Site'] == entered_site]\n",
    "        # return the outcomes piechart for a selected site\n",
    "        success_counts = filtered_df['class'].value_counts(normalize=True) * 100\n",
    "        fig = px.pie(success_counts, values=success_counts.values, \n",
    "        names=success_counts.index, \n",
    "        title=f'Success rate by {entered_site}'\n",
    "        )\n",
    "        return fig\n",
    "@app.callback(Output(component_id='success-payload-scatter-chart', component_property='figure'),\n",
    "              Input(component_id='site-dropdown', component_property='value'),\n",
    "              Input(component_id=\"payload-slider\", component_property=\"value\"))\n",
    "def get_scater_plot(entered_site, payload_range):\n",
    "    min_value = payload_range[0]\n",
    "    max_value = payload_range[1]\n",
    "    if entered_site =='All':\n",
    "        filtered_df = df[(df['Payload Mass (kg)']>=min_value)& (df['Payload Mass (kg)']<=max_value)]\n",
    "        fig = px.scatter(data_frame=filtered_df,x='Payload Mass (kg)', y='class', color=\"Booster Version Category\", title='Success by payload fo all Launch sites')\n",
    "        fig.update_yaxes(tickvals=[0, 1], ticktext=['Failure', 'Success'])\n",
    "        fig.update_xaxes(dtick=500)\n",
    "        fig.update_xaxes(showgrid=True)  # Show grid lines on the x-axis\n",
    "        fig.update_yaxes(showgrid=True)\n",
    "        return fig\n",
    "    else:\n",
    "        filtered_df = df[(df['Launch Site']==entered_site) & (df['Payload Mass (kg)']>=min_value)& (df['Payload Mass (kg)']<=max_value)]\n",
    "        fig = px.scatter(data_frame=filtered_df,x='Payload Mass (kg)', y='class', color=\"Booster Version Category\", title=f'Success by payload for {entered_site} Launch site')\n",
    "        fig.update_yaxes(tickvals=[0, 1], ticktext=['Failure', 'Success'])\n",
    "        fig.update_xaxes(dtick=500)\n",
    "        fig.update_xaxes(showgrid=True)  # Show grid lines on the x-axis\n",
    "        fig.update_yaxes(showgrid=True)\n",
    "        return fig\n",
    "\n",
    "if __name__ == '__main__':\n",
    "    app.run()"
   ]
  },
  {
   "cell_type": "code",
   "execution_count": null,
   "id": "afa9cf35",
   "metadata": {},
   "outputs": [],
   "source": []
  }
 ],
 "metadata": {
  "kernelspec": {
   "display_name": ".venv",
   "language": "python",
   "name": "python3"
  },
  "language_info": {
   "codemirror_mode": {
    "name": "ipython",
    "version": 3
   },
   "file_extension": ".py",
   "mimetype": "text/x-python",
   "name": "python",
   "nbconvert_exporter": "python",
   "pygments_lexer": "ipython3",
   "version": "3.13.2"
  }
 },
 "nbformat": 4,
 "nbformat_minor": 5
}
